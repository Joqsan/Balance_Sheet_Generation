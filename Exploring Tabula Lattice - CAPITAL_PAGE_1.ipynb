{
 "cells": [
  {
   "cell_type": "code",
   "execution_count": 1,
   "metadata": {
    "collapsed": true
   },
   "outputs": [],
   "source": [
    "import tabula"
   ]
  },
  {
   "cell_type": "code",
   "execution_count": 2,
   "metadata": {
    "collapsed": true
   },
   "outputs": [],
   "source": [
    "import pandas as pd"
   ]
  },
  {
   "cell_type": "code",
   "execution_count": 5,
   "metadata": {
    "collapsed": true
   },
   "outputs": [],
   "source": [
    "dfs = tabula.read_pdf(\"document.pdf\", pages='1', stream=True)"
   ]
  },
  {
   "cell_type": "code",
   "execution_count": 6,
   "metadata": {},
   "outputs": [
    {
     "data": {
      "text/plain": [
       "3"
      ]
     },
     "execution_count": 6,
     "metadata": {},
     "output_type": "execute_result"
    }
   ],
   "source": [
    "len(dfs)"
   ]
  },
  {
   "cell_type": "code",
   "execution_count": 11,
   "metadata": {},
   "outputs": [
    {
     "data": {
      "text/html": [
       "<div>\n",
       "<style scoped>\n",
       "    .dataframe tbody tr th:only-of-type {\n",
       "        vertical-align: middle;\n",
       "    }\n",
       "\n",
       "    .dataframe tbody tr th {\n",
       "        vertical-align: top;\n",
       "    }\n",
       "\n",
       "    .dataframe thead th {\n",
       "        text-align: right;\n",
       "    }\n",
       "</style>\n",
       "<table border=\"1\" class=\"dataframe\">\n",
       "  <thead>\n",
       "    <tr style=\"text-align: right;\">\n",
       "      <th></th>\n",
       "      <th>Unnamed: 0</th>\n",
       "      <th>Unnamed: 1</th>\n",
       "      <th>Unnamed: 2</th>\n",
       "      <th>Unnamed: 3</th>\n",
       "      <th>Unnamed: 4</th>\n",
       "      <th>Unnamed: 5</th>\n",
       "      <th>Unnamed: 6</th>\n",
       "      <th>5</th>\n",
       "    </tr>\n",
       "  </thead>\n",
       "  <tbody>\n",
       "    <tr>\n",
       "      <th>0</th>\n",
       "      <td>Remuneraciones</td>\n",
       "      <td>NaN</td>\n",
       "      <td>Gratificaciones</td>\n",
       "      <td>Desde</td>\n",
       "      <td>NaN</td>\n",
       "      <td>NaN</td>\n",
       "      <td>FDO. PENSIONES</td>\n",
       "      <td>NaN</td>\n",
       "    </tr>\n",
       "    <tr>\n",
       "      <th>1</th>\n",
       "      <td>NaN</td>\n",
       "      <td>X</td>\n",
       "      <td>NaN</td>\n",
       "      <td>NaN</td>\n",
       "      <td>NaN</td>\n",
       "      <td>NaN</td>\n",
       "      <td>NaN</td>\n",
       "      <td>NaN</td>\n",
       "    </tr>\n",
       "    <tr>\n",
       "      <th>2</th>\n",
       "      <td>del mes</td>\n",
       "      <td>NaN</td>\n",
       "      <td>NaN</td>\n",
       "      <td>NaN</td>\n",
       "      <td>NaN</td>\n",
       "      <td>2.463.129</td>\n",
       "      <td>NaN</td>\n",
       "      <td>NaN</td>\n",
       "    </tr>\n",
       "    <tr>\n",
       "      <th>3</th>\n",
       "      <td>Periodo</td>\n",
       "      <td>01/2014</td>\n",
       "      <td>Retroactivo</td>\n",
       "      <td>Hasta</td>\n",
       "      <td>NaN</td>\n",
       "      <td>NaN</td>\n",
       "      <td>NUMERO AFILIADOS APVC</td>\n",
       "      <td>0.0</td>\n",
       "    </tr>\n",
       "    <tr>\n",
       "      <th>4</th>\n",
       "      <td>NaN</td>\n",
       "      <td>NaN</td>\n",
       "      <td>Ley 19553</td>\n",
       "      <td>Fecha Pago</td>\n",
       "      <td>19/02/2014</td>\n",
       "      <td>NaN</td>\n",
       "      <td>NUMERO AFILIADOS VOLUNTARIOS</td>\n",
       "      <td>0.0</td>\n",
       "    </tr>\n",
       "  </tbody>\n",
       "</table>\n",
       "</div>"
      ],
      "text/plain": [
       "       Unnamed: 0 Unnamed: 1       Unnamed: 2  Unnamed: 3  Unnamed: 4  \\\n",
       "0  Remuneraciones        NaN  Gratificaciones       Desde         NaN   \n",
       "1             NaN          X              NaN         NaN         NaN   \n",
       "2         del mes        NaN              NaN         NaN         NaN   \n",
       "3         Periodo    01/2014      Retroactivo       Hasta         NaN   \n",
       "4             NaN        NaN        Ley 19553  Fecha Pago  19/02/2014   \n",
       "\n",
       "  Unnamed: 5                    Unnamed: 6    5  \n",
       "0        NaN                FDO. PENSIONES  NaN  \n",
       "1        NaN                           NaN  NaN  \n",
       "2  2.463.129                           NaN  NaN  \n",
       "3        NaN         NUMERO AFILIADOS APVC  0.0  \n",
       "4        NaN  NUMERO AFILIADOS VOLUNTARIOS  0.0  "
      ]
     },
     "execution_count": 11,
     "metadata": {},
     "output_type": "execute_result"
    }
   ],
   "source": [
    "dfs[1]"
   ]
  },
  {
   "cell_type": "code",
   "execution_count": 5,
   "metadata": {
    "collapsed": true
   },
   "outputs": [],
   "source": [
    "afp = dfs[3].iloc[:-1].copy()"
   ]
  },
  {
   "cell_type": "code",
   "execution_count": 6,
   "metadata": {
    "collapsed": true
   },
   "outputs": [],
   "source": [
    "afp.columns = afp.iloc[0].values"
   ]
  },
  {
   "cell_type": "code",
   "execution_count": null,
   "metadata": {
    "collapsed": true
   },
   "outputs": [],
   "source": []
  },
  {
   "cell_type": "code",
   "execution_count": 7,
   "metadata": {
    "collapsed": true
   },
   "outputs": [],
   "source": [
    "afp = afp.drop(0, axis=0).reset_index(drop=True)"
   ]
  },
  {
   "cell_type": "code",
   "execution_count": 8,
   "metadata": {},
   "outputs": [
    {
     "data": {
      "text/html": [
       "<div>\n",
       "<style scoped>\n",
       "    .dataframe tbody tr th:only-of-type {\n",
       "        vertical-align: middle;\n",
       "    }\n",
       "\n",
       "    .dataframe tbody tr th {\n",
       "        vertical-align: top;\n",
       "    }\n",
       "\n",
       "    .dataframe thead th {\n",
       "        text-align: right;\n",
       "    }\n",
       "</style>\n",
       "<table border=\"1\" class=\"dataframe\">\n",
       "  <thead>\n",
       "    <tr style=\"text-align: right;\">\n",
       "      <th></th>\n",
       "      <th>RUT</th>\n",
       "      <th>Apellido Paterno, Materno, Nombres</th>\n",
       "      <th>Remuneración\\rImponible</th>\n",
       "      <th>Cotización\\rObligatoria</th>\n",
       "      <th>SIS</th>\n",
       "      <th>Cotización\\rVoluntaria\\r(APVI)</th>\n",
       "      <th>N° Contrato\\rAPVI</th>\n",
       "      <th>Deposito\\rConvenido</th>\n",
       "      <th>Dep. en Cta.\\rAhorro</th>\n",
       "      <th>Remuneración\\rImponible</th>\n",
       "      <th>Cotización\\rAfiliado</th>\n",
       "      <th>Cotización\\rEmpleador</th>\n",
       "      <th>Cod.</th>\n",
       "      <th>Fecha Inicio</th>\n",
       "      <th>Fecha\\rTérmino</th>\n",
       "    </tr>\n",
       "  </thead>\n",
       "  <tbody>\n",
       "    <tr>\n",
       "      <th>0</th>\n",
       "      <td>13.278.815-4</td>\n",
       "      <td>BARRA ASTUDILLO MAURICIO ARMANDO</td>\n",
       "      <td>574.346</td>\n",
       "      <td>65.705</td>\n",
       "      <td>7.237</td>\n",
       "      <td>0</td>\n",
       "      <td>NaN</td>\n",
       "      <td>0</td>\n",
       "      <td>0</td>\n",
       "      <td>574.346</td>\n",
       "      <td>0</td>\n",
       "      <td>17.230</td>\n",
       "      <td>0</td>\n",
       "      <td>NaN</td>\n",
       "      <td>NaN</td>\n",
       "    </tr>\n",
       "    <tr>\n",
       "      <th>1</th>\n",
       "      <td>6.113.761-0</td>\n",
       "      <td>GONZALEZ NUNEZ HECTOR GUILLERMO</td>\n",
       "      <td>284.289</td>\n",
       "      <td>32.523</td>\n",
       "      <td>3.582</td>\n",
       "      <td>0</td>\n",
       "      <td>NaN</td>\n",
       "      <td>0</td>\n",
       "      <td>0</td>\n",
       "      <td>284.289</td>\n",
       "      <td>1.706</td>\n",
       "      <td>6.823</td>\n",
       "      <td>0</td>\n",
       "      <td>NaN</td>\n",
       "      <td>NaN</td>\n",
       "    </tr>\n",
       "    <tr>\n",
       "      <th>2</th>\n",
       "      <td>16.747.157-9</td>\n",
       "      <td>HUERTA MELLA MARLEN VIRGINIA</td>\n",
       "      <td>237.504</td>\n",
       "      <td>27.170</td>\n",
       "      <td>2.993</td>\n",
       "      <td>0</td>\n",
       "      <td>NaN</td>\n",
       "      <td>0</td>\n",
       "      <td>0</td>\n",
       "      <td>237.504</td>\n",
       "      <td>0</td>\n",
       "      <td>7.125</td>\n",
       "      <td>0</td>\n",
       "      <td>NaN</td>\n",
       "      <td>NaN</td>\n",
       "    </tr>\n",
       "    <tr>\n",
       "      <th>3</th>\n",
       "      <td>8.868.203-3</td>\n",
       "      <td>MUNOZ SANDOVAL PATRICIA DEL CARMEN</td>\n",
       "      <td>756.849</td>\n",
       "      <td>86.584</td>\n",
       "      <td>9.536</td>\n",
       "      <td>0</td>\n",
       "      <td>NaN</td>\n",
       "      <td>0</td>\n",
       "      <td>0</td>\n",
       "      <td>756.849</td>\n",
       "      <td>4.541</td>\n",
       "      <td>18.164</td>\n",
       "      <td>0</td>\n",
       "      <td>NaN</td>\n",
       "      <td>NaN</td>\n",
       "    </tr>\n",
       "    <tr>\n",
       "      <th>4</th>\n",
       "      <td>16.750.572-4</td>\n",
       "      <td>PELLEGRINI RIQUELME SILVIA</td>\n",
       "      <td>610.141</td>\n",
       "      <td>69.800</td>\n",
       "      <td>7.688</td>\n",
       "      <td>0</td>\n",
       "      <td>NaN</td>\n",
       "      <td>0</td>\n",
       "      <td>0</td>\n",
       "      <td>610.141</td>\n",
       "      <td>0</td>\n",
       "      <td>18.304</td>\n",
       "      <td>0</td>\n",
       "      <td>NaN</td>\n",
       "      <td>NaN</td>\n",
       "    </tr>\n",
       "  </tbody>\n",
       "</table>\n",
       "</div>"
      ],
      "text/plain": [
       "            RUT  Apellido Paterno, Materno, Nombres Remuneración\\rImponible  \\\n",
       "0  13.278.815-4    BARRA ASTUDILLO MAURICIO ARMANDO                 574.346   \n",
       "1   6.113.761-0     GONZALEZ NUNEZ HECTOR GUILLERMO                 284.289   \n",
       "2  16.747.157-9        HUERTA MELLA MARLEN VIRGINIA                 237.504   \n",
       "3   8.868.203-3  MUNOZ SANDOVAL PATRICIA DEL CARMEN                 756.849   \n",
       "4  16.750.572-4          PELLEGRINI RIQUELME SILVIA                 610.141   \n",
       "\n",
       "  Cotización\\rObligatoria    SIS Cotización\\rVoluntaria\\r(APVI)  \\\n",
       "0                  65.705  7.237                              0   \n",
       "1                  32.523  3.582                              0   \n",
       "2                  27.170  2.993                              0   \n",
       "3                  86.584  9.536                              0   \n",
       "4                  69.800  7.688                              0   \n",
       "\n",
       "  N° Contrato\\rAPVI Deposito\\rConvenido Dep. en Cta.\\rAhorro  \\\n",
       "0               NaN                   0                    0   \n",
       "1               NaN                   0                    0   \n",
       "2               NaN                   0                    0   \n",
       "3               NaN                   0                    0   \n",
       "4               NaN                   0                    0   \n",
       "\n",
       "  Remuneración\\rImponible Cotización\\rAfiliado Cotización\\rEmpleador Cod.  \\\n",
       "0                 574.346                    0                17.230    0   \n",
       "1                 284.289                1.706                 6.823    0   \n",
       "2                 237.504                    0                 7.125    0   \n",
       "3                 756.849                4.541                18.164    0   \n",
       "4                 610.141                    0                18.304    0   \n",
       "\n",
       "  Fecha Inicio Fecha\\rTérmino  \n",
       "0          NaN            NaN  \n",
       "1          NaN            NaN  \n",
       "2          NaN            NaN  \n",
       "3          NaN            NaN  \n",
       "4          NaN            NaN  "
      ]
     },
     "execution_count": 8,
     "metadata": {},
     "output_type": "execute_result"
    }
   ],
   "source": [
    "afp"
   ]
  },
  {
   "cell_type": "code",
   "execution_count": 10,
   "metadata": {},
   "outputs": [
    {
     "data": {
      "text/plain": [
       "RUT                                   object\n",
       "Apellido Paterno, Materno, Nombres    object\n",
       "Remuneración\\rImponible               object\n",
       "Cotización\\rObligatoria               object\n",
       "SIS                                   object\n",
       "Cotización\\rVoluntaria\\r(APVI)        object\n",
       "N° Contrato\\rAPVI                     object\n",
       "Deposito\\rConvenido                   object\n",
       "Dep. en Cta.\\rAhorro                  object\n",
       "Remuneración\\rImponible               object\n",
       "Cotización\\rAfiliado                  object\n",
       "Cotización\\rEmpleador                 object\n",
       "Cod.                                  object\n",
       "Fecha Inicio                          object\n",
       "Fecha\\rTérmino                        object\n",
       "dtype: object"
      ]
     },
     "execution_count": 10,
     "metadata": {},
     "output_type": "execute_result"
    }
   ],
   "source": [
    "afp.dtypes"
   ]
  },
  {
   "cell_type": "code",
   "execution_count": 12,
   "metadata": {},
   "outputs": [
    {
     "data": {
      "text/html": [
       "<div>\n",
       "<style scoped>\n",
       "    .dataframe tbody tr th:only-of-type {\n",
       "        vertical-align: middle;\n",
       "    }\n",
       "\n",
       "    .dataframe tbody tr th {\n",
       "        vertical-align: top;\n",
       "    }\n",
       "\n",
       "    .dataframe thead th {\n",
       "        text-align: right;\n",
       "    }\n",
       "</style>\n",
       "<table border=\"1\" class=\"dataframe\">\n",
       "  <thead>\n",
       "    <tr style=\"text-align: right;\">\n",
       "      <th></th>\n",
       "      <th>Remuneración\\rImponible</th>\n",
       "      <th>Cotización\\rObligatoria</th>\n",
       "      <th>SIS</th>\n",
       "      <th>Cotización\\rVoluntaria\\r(APVI)</th>\n",
       "      <th>N° Contrato\\rAPVI</th>\n",
       "      <th>Deposito\\rConvenido</th>\n",
       "      <th>Dep. en Cta.\\rAhorro</th>\n",
       "      <th>Remuneración\\rImponible</th>\n",
       "      <th>Cotización\\rAfiliado</th>\n",
       "      <th>Cotización\\rEmpleador</th>\n",
       "      <th>Cod.</th>\n",
       "      <th>Fecha Inicio</th>\n",
       "      <th>Fecha\\rTérmino</th>\n",
       "    </tr>\n",
       "  </thead>\n",
       "  <tbody>\n",
       "    <tr>\n",
       "      <th>0</th>\n",
       "      <td>574.346</td>\n",
       "      <td>65.705</td>\n",
       "      <td>7.237</td>\n",
       "      <td>0</td>\n",
       "      <td>NaN</td>\n",
       "      <td>0</td>\n",
       "      <td>0</td>\n",
       "      <td>574.346</td>\n",
       "      <td>0</td>\n",
       "      <td>17.230</td>\n",
       "      <td>0</td>\n",
       "      <td>NaN</td>\n",
       "      <td>NaN</td>\n",
       "    </tr>\n",
       "    <tr>\n",
       "      <th>1</th>\n",
       "      <td>284.289</td>\n",
       "      <td>32.523</td>\n",
       "      <td>3.582</td>\n",
       "      <td>0</td>\n",
       "      <td>NaN</td>\n",
       "      <td>0</td>\n",
       "      <td>0</td>\n",
       "      <td>284.289</td>\n",
       "      <td>1.706</td>\n",
       "      <td>6.823</td>\n",
       "      <td>0</td>\n",
       "      <td>NaN</td>\n",
       "      <td>NaN</td>\n",
       "    </tr>\n",
       "    <tr>\n",
       "      <th>2</th>\n",
       "      <td>237.504</td>\n",
       "      <td>27.170</td>\n",
       "      <td>2.993</td>\n",
       "      <td>0</td>\n",
       "      <td>NaN</td>\n",
       "      <td>0</td>\n",
       "      <td>0</td>\n",
       "      <td>237.504</td>\n",
       "      <td>0</td>\n",
       "      <td>7.125</td>\n",
       "      <td>0</td>\n",
       "      <td>NaN</td>\n",
       "      <td>NaN</td>\n",
       "    </tr>\n",
       "    <tr>\n",
       "      <th>3</th>\n",
       "      <td>756.849</td>\n",
       "      <td>86.584</td>\n",
       "      <td>9.536</td>\n",
       "      <td>0</td>\n",
       "      <td>NaN</td>\n",
       "      <td>0</td>\n",
       "      <td>0</td>\n",
       "      <td>756.849</td>\n",
       "      <td>4.541</td>\n",
       "      <td>18.164</td>\n",
       "      <td>0</td>\n",
       "      <td>NaN</td>\n",
       "      <td>NaN</td>\n",
       "    </tr>\n",
       "    <tr>\n",
       "      <th>4</th>\n",
       "      <td>610.141</td>\n",
       "      <td>69.800</td>\n",
       "      <td>7.688</td>\n",
       "      <td>0</td>\n",
       "      <td>NaN</td>\n",
       "      <td>0</td>\n",
       "      <td>0</td>\n",
       "      <td>610.141</td>\n",
       "      <td>0</td>\n",
       "      <td>18.304</td>\n",
       "      <td>0</td>\n",
       "      <td>NaN</td>\n",
       "      <td>NaN</td>\n",
       "    </tr>\n",
       "  </tbody>\n",
       "</table>\n",
       "</div>"
      ],
      "text/plain": [
       "  Remuneración\\rImponible Cotización\\rObligatoria    SIS  \\\n",
       "0                 574.346                  65.705  7.237   \n",
       "1                 284.289                  32.523  3.582   \n",
       "2                 237.504                  27.170  2.993   \n",
       "3                 756.849                  86.584  9.536   \n",
       "4                 610.141                  69.800  7.688   \n",
       "\n",
       "  Cotización\\rVoluntaria\\r(APVI) N° Contrato\\rAPVI Deposito\\rConvenido  \\\n",
       "0                              0               NaN                   0   \n",
       "1                              0               NaN                   0   \n",
       "2                              0               NaN                   0   \n",
       "3                              0               NaN                   0   \n",
       "4                              0               NaN                   0   \n",
       "\n",
       "  Dep. en Cta.\\rAhorro Remuneración\\rImponible Cotización\\rAfiliado  \\\n",
       "0                    0                 574.346                    0   \n",
       "1                    0                 284.289                1.706   \n",
       "2                    0                 237.504                    0   \n",
       "3                    0                 756.849                4.541   \n",
       "4                    0                 610.141                    0   \n",
       "\n",
       "  Cotización\\rEmpleador Cod. Fecha Inicio Fecha\\rTérmino  \n",
       "0                17.230    0          NaN            NaN  \n",
       "1                 6.823    0          NaN            NaN  \n",
       "2                 7.125    0          NaN            NaN  \n",
       "3                18.164    0          NaN            NaN  \n",
       "4                18.304    0          NaN            NaN  "
      ]
     },
     "execution_count": 12,
     "metadata": {},
     "output_type": "execute_result"
    }
   ],
   "source": [
    "afp.iloc[0:, 2:]"
   ]
  },
  {
   "cell_type": "code",
   "execution_count": 13,
   "metadata": {},
   "outputs": [
    {
     "data": {
      "text/html": [
       "<div>\n",
       "<style scoped>\n",
       "    .dataframe tbody tr th:only-of-type {\n",
       "        vertical-align: middle;\n",
       "    }\n",
       "\n",
       "    .dataframe tbody tr th {\n",
       "        vertical-align: top;\n",
       "    }\n",
       "\n",
       "    .dataframe thead th {\n",
       "        text-align: right;\n",
       "    }\n",
       "</style>\n",
       "<table border=\"1\" class=\"dataframe\">\n",
       "  <thead>\n",
       "    <tr style=\"text-align: right;\">\n",
       "      <th></th>\n",
       "      <th>Remuneración\\rImponible</th>\n",
       "      <th>Cotización\\rObligatoria</th>\n",
       "      <th>SIS</th>\n",
       "      <th>Cotización\\rVoluntaria\\r(APVI)</th>\n",
       "      <th>N° Contrato\\rAPVI</th>\n",
       "      <th>Deposito\\rConvenido</th>\n",
       "      <th>Dep. en Cta.\\rAhorro</th>\n",
       "      <th>Remuneración\\rImponible</th>\n",
       "      <th>Cotización\\rAfiliado</th>\n",
       "      <th>Cotización\\rEmpleador</th>\n",
       "      <th>Cod.</th>\n",
       "      <th>Fecha Inicio</th>\n",
       "      <th>Fecha\\rTérmino</th>\n",
       "    </tr>\n",
       "  </thead>\n",
       "  <tbody>\n",
       "    <tr>\n",
       "      <th>0</th>\n",
       "      <td>574.346</td>\n",
       "      <td>65.705</td>\n",
       "      <td>7.237</td>\n",
       "      <td>0</td>\n",
       "      <td>NaN</td>\n",
       "      <td>0</td>\n",
       "      <td>0</td>\n",
       "      <td>574.346</td>\n",
       "      <td>0</td>\n",
       "      <td>17.230</td>\n",
       "      <td>0</td>\n",
       "      <td>NaN</td>\n",
       "      <td>NaN</td>\n",
       "    </tr>\n",
       "    <tr>\n",
       "      <th>1</th>\n",
       "      <td>284.289</td>\n",
       "      <td>32.523</td>\n",
       "      <td>3.582</td>\n",
       "      <td>0</td>\n",
       "      <td>NaN</td>\n",
       "      <td>0</td>\n",
       "      <td>0</td>\n",
       "      <td>284.289</td>\n",
       "      <td>1.706</td>\n",
       "      <td>6.823</td>\n",
       "      <td>0</td>\n",
       "      <td>NaN</td>\n",
       "      <td>NaN</td>\n",
       "    </tr>\n",
       "    <tr>\n",
       "      <th>2</th>\n",
       "      <td>237.504</td>\n",
       "      <td>27.170</td>\n",
       "      <td>2.993</td>\n",
       "      <td>0</td>\n",
       "      <td>NaN</td>\n",
       "      <td>0</td>\n",
       "      <td>0</td>\n",
       "      <td>237.504</td>\n",
       "      <td>0</td>\n",
       "      <td>7.125</td>\n",
       "      <td>0</td>\n",
       "      <td>NaN</td>\n",
       "      <td>NaN</td>\n",
       "    </tr>\n",
       "    <tr>\n",
       "      <th>3</th>\n",
       "      <td>756.849</td>\n",
       "      <td>86.584</td>\n",
       "      <td>9.536</td>\n",
       "      <td>0</td>\n",
       "      <td>NaN</td>\n",
       "      <td>0</td>\n",
       "      <td>0</td>\n",
       "      <td>756.849</td>\n",
       "      <td>4.541</td>\n",
       "      <td>18.164</td>\n",
       "      <td>0</td>\n",
       "      <td>NaN</td>\n",
       "      <td>NaN</td>\n",
       "    </tr>\n",
       "    <tr>\n",
       "      <th>4</th>\n",
       "      <td>610.141</td>\n",
       "      <td>69.800</td>\n",
       "      <td>7.688</td>\n",
       "      <td>0</td>\n",
       "      <td>NaN</td>\n",
       "      <td>0</td>\n",
       "      <td>0</td>\n",
       "      <td>610.141</td>\n",
       "      <td>0</td>\n",
       "      <td>18.304</td>\n",
       "      <td>0</td>\n",
       "      <td>NaN</td>\n",
       "      <td>NaN</td>\n",
       "    </tr>\n",
       "  </tbody>\n",
       "</table>\n",
       "</div>"
      ],
      "text/plain": [
       "  Remuneración\\rImponible Cotización\\rObligatoria    SIS  \\\n",
       "0                 574.346                  65.705  7.237   \n",
       "1                 284.289                  32.523  3.582   \n",
       "2                 237.504                  27.170  2.993   \n",
       "3                 756.849                  86.584  9.536   \n",
       "4                 610.141                  69.800  7.688   \n",
       "\n",
       "  Cotización\\rVoluntaria\\r(APVI)  N° Contrato\\rAPVI Deposito\\rConvenido  \\\n",
       "0                              0                NaN                   0   \n",
       "1                              0                NaN                   0   \n",
       "2                              0                NaN                   0   \n",
       "3                              0                NaN                   0   \n",
       "4                              0                NaN                   0   \n",
       "\n",
       "  Dep. en Cta.\\rAhorro Remuneración\\rImponible Cotización\\rAfiliado  \\\n",
       "0                    0                 574.346                    0   \n",
       "1                    0                 284.289                1.706   \n",
       "2                    0                 237.504                    0   \n",
       "3                    0                 756.849                4.541   \n",
       "4                    0                 610.141                    0   \n",
       "\n",
       "  Cotización\\rEmpleador Cod.  Fecha Inicio  Fecha\\rTérmino  \n",
       "0                17.230    0           NaN             NaN  \n",
       "1                 6.823    0           NaN             NaN  \n",
       "2                 7.125    0           NaN             NaN  \n",
       "3                18.164    0           NaN             NaN  \n",
       "4                18.304    0           NaN             NaN  "
      ]
     },
     "execution_count": 13,
     "metadata": {},
     "output_type": "execute_result"
    }
   ],
   "source": [
    "afp.iloc[0:, 2:].apply(lambda x: x.replace('.', ''))"
   ]
  },
  {
   "cell_type": "code",
   "execution_count": null,
   "metadata": {
    "collapsed": true
   },
   "outputs": [],
   "source": [
    "afp.iloc[0:, 2:] = afp.iloc[0:, 2:].apply(lambda x: x.str.replace('.', ''))"
   ]
  },
  {
   "cell_type": "code",
   "execution_count": null,
   "metadata": {
    "collapsed": true
   },
   "outputs": [],
   "source": [
    "afp.iloc[0:, 2:] = afp.iloc[0:, 2:].apply(pd.to_numeric)"
   ]
  },
  {
   "cell_type": "code",
   "execution_count": null,
   "metadata": {
    "collapsed": true
   },
   "outputs": [],
   "source": [
    "afp"
   ]
  },
  {
   "cell_type": "code",
   "execution_count": null,
   "metadata": {
    "collapsed": true
   },
   "outputs": [],
   "source": [
    "afp.iloc[:, 2:].sum(axis=0)"
   ]
  },
  {
   "cell_type": "code",
   "execution_count": null,
   "metadata": {
    "collapsed": true
   },
   "outputs": [],
   "source": [
    "afp.columns = afp.columns.str.replace('\\r', ' ')"
   ]
  },
  {
   "cell_type": "code",
   "execution_count": null,
   "metadata": {
    "collapsed": true
   },
   "outputs": [],
   "source": [
    "afp"
   ]
  },
  {
   "cell_type": "code",
   "execution_count": null,
   "metadata": {
    "collapsed": true
   },
   "outputs": [],
   "source": [
    "afp = afp.dropna(axis=1)"
   ]
  },
  {
   "cell_type": "code",
   "execution_count": null,
   "metadata": {
    "collapsed": true
   },
   "outputs": [],
   "source": [
    "afp"
   ]
  },
  {
   "cell_type": "code",
   "execution_count": null,
   "metadata": {
    "collapsed": true
   },
   "outputs": [],
   "source": [
    "afp.iloc[:, 2:].sum(axis=0)"
   ]
  },
  {
   "cell_type": "code",
   "execution_count": null,
   "metadata": {
    "collapsed": true
   },
   "outputs": [],
   "source": [
    "afp = afp.loc[:,~afp.columns.duplicated()]"
   ]
  },
  {
   "cell_type": "code",
   "execution_count": null,
   "metadata": {
    "collapsed": true
   },
   "outputs": [],
   "source": [
    "afp"
   ]
  },
  {
   "cell_type": "code",
   "execution_count": null,
   "metadata": {
    "collapsed": true
   },
   "outputs": [],
   "source": [
    "#tipo_descuento, nombre_empresa\n",
    "tipo, nombre = tuple(dfs[0].columns[0].split())"
   ]
  },
  {
   "cell_type": "code",
   "execution_count": null,
   "metadata": {
    "collapsed": true
   },
   "outputs": [],
   "source": [
    "afp[tipo] = nombre"
   ]
  },
  {
   "cell_type": "code",
   "execution_count": null,
   "metadata": {
    "collapsed": true
   },
   "outputs": [],
   "source": [
    "afp.drop('Cod.', axis=1)"
   ]
  },
  {
   "cell_type": "code",
   "execution_count": null,
   "metadata": {
    "collapsed": true
   },
   "outputs": [],
   "source": []
  }
 ],
 "metadata": {
  "kernelspec": {
   "display_name": "myenv",
   "language": "python",
   "name": "myenv"
  },
  "language_info": {
   "codemirror_mode": {
    "name": "ipython",
    "version": 3
   },
   "file_extension": ".py",
   "mimetype": "text/x-python",
   "name": "python",
   "nbconvert_exporter": "python",
   "pygments_lexer": "ipython3",
   "version": "3.6.4"
  }
 },
 "nbformat": 4,
 "nbformat_minor": 2
}
