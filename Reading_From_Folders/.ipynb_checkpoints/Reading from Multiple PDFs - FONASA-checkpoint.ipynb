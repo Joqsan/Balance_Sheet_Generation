{
 "cells": [
  {
   "cell_type": "code",
   "execution_count": 1,
   "metadata": {
    "collapsed": true
   },
   "outputs": [],
   "source": [
    "import camelot"
   ]
  },
  {
   "cell_type": "code",
   "execution_count": 2,
   "metadata": {
    "collapsed": true
   },
   "outputs": [],
   "source": [
    "import glob"
   ]
  },
  {
   "cell_type": "code",
   "execution_count": 3,
   "metadata": {
    "collapsed": true
   },
   "outputs": [],
   "source": [
    "directory = '/Users/joqsan/0-Excel/Reading_From_Folders/FONASA/*.pdf'"
   ]
  },
  {
   "cell_type": "code",
   "execution_count": 4,
   "metadata": {},
   "outputs": [
    {
     "data": {
      "text/plain": [
       "'/Users/joqsan/0-Excel/Reading_From_Folders/FONASA/*.pdf'"
      ]
     },
     "execution_count": 4,
     "metadata": {},
     "output_type": "execute_result"
    }
   ],
   "source": [
    "directory"
   ]
  },
  {
   "cell_type": "code",
   "execution_count": 5,
   "metadata": {
    "collapsed": true
   },
   "outputs": [],
   "source": [
    "files = [filename for filename in glob.glob(directory)]"
   ]
  },
  {
   "cell_type": "code",
   "execution_count": 6,
   "metadata": {},
   "outputs": [
    {
     "data": {
      "text/plain": [
       "['/Users/joqsan/0-Excel/Reading_From_Folders/FONASA/Fonasa_01.pdf',\n",
       " '/Users/joqsan/0-Excel/Reading_From_Folders/FONASA/Fonasa_02.pdf',\n",
       " '/Users/joqsan/0-Excel/Reading_From_Folders/FONASA/Fonasa_03.pdf']"
      ]
     },
     "execution_count": 6,
     "metadata": {},
     "output_type": "execute_result"
    }
   ],
   "source": [
    "files"
   ]
  },
  {
   "cell_type": "markdown",
   "metadata": {},
   "source": [
    "## Let's test FONASA"
   ]
  },
  {
   "cell_type": "code",
   "execution_count": 7,
   "metadata": {},
   "outputs": [
    {
     "data": {
      "text/plain": [
       "'es_ES.UTF-8'"
      ]
     },
     "execution_count": 7,
     "metadata": {},
     "output_type": "execute_result"
    }
   ],
   "source": [
    "import camelot\n",
    "import pandas as pd\n",
    "%matplotlib notebook\n",
    "import re\n",
    "import calendar\n",
    "import locale\n",
    "locale.setlocale(locale.LC_ALL,'es_ES.UTF-8')"
   ]
  },
  {
   "cell_type": "code",
   "execution_count": 8,
   "metadata": {
    "collapsed": true
   },
   "outputs": [],
   "source": [
    "months = list(calendar.month_abbr)\n",
    "months = list(map(lambda x: x.capitalize(), months))"
   ]
  },
  {
   "cell_type": "code",
   "execution_count": 9,
   "metadata": {
    "collapsed": true
   },
   "outputs": [],
   "source": [
    "area = ['54, 288, 294, 158', '60, 335, 131, 301']"
   ]
  },
  {
   "cell_type": "code",
   "execution_count": 10,
   "metadata": {
    "collapsed": true
   },
   "outputs": [],
   "source": [
    "def transpose_data(df, month, name):\n",
    "    df = df.transpose()\n",
    "    df.columns = df.iloc[0, :]\n",
    "    df = df.drop(0, axis=0)\n",
    "    df = df.set_index([[month], [name]])\n",
    "    \n",
    "    return df"
   ]
  },
  {
   "cell_type": "code",
   "execution_count": 11,
   "metadata": {
    "collapsed": true
   },
   "outputs": [],
   "source": [
    "def fonasa_data_cleaning(dfs):\n",
    "    \n",
    "    part1 = dfs[0].df.copy()\n",
    "    month_str = part1.iloc[1, 0]\n",
    "    month_id = int(re.sub(r'0([0-9])', r'\\1', month_str))\n",
    "    month = months[month_id]\n",
    "    \n",
    "    \n",
    "    part2 = dfs[1].df.copy()\n",
    "    part2.drop(0, inplace=True)\n",
    "    part2.drop(1, axis=1, inplace=True)\n",
    "    part2.iloc[-1, 0] = 'Total A Pagar'\n",
    "    \n",
    "    \n",
    "    part2.iloc[:, [1]] = part2.iloc[:, [1]].apply(lambda x: x.str.replace('.', '')).astype(int)\n",
    "    \n",
    "    fonasa = transpose_data(part2, month, 'FONASA')\n",
    "    \n",
    "    return fonasa"
   ]
  },
  {
   "cell_type": "code",
   "execution_count": 13,
   "metadata": {
    "collapsed": true
   },
   "outputs": [],
   "source": [
    "fonasa_list = []\n",
    "for fonasa_file in files:\n",
    "    fonasa_dfs = camelot.read_pdf(fonasa_file, pages='1', flavor='stream', table_areas=area)\n",
    "    fonasa = fonasa_data_cleaning(fonasa_dfs)\n",
    "    fonasa_list.append(fonasa)"
   ]
  },
  {
   "cell_type": "code",
   "execution_count": 15,
   "metadata": {
    "collapsed": true
   },
   "outputs": [],
   "source": [
    "df = pd.concat(fonasa_list)"
   ]
  },
  {
   "cell_type": "code",
   "execution_count": 16,
   "metadata": {},
   "outputs": [
    {
     "data": {
      "text/html": [
       "<div>\n",
       "<style scoped>\n",
       "    .dataframe tbody tr th:only-of-type {\n",
       "        vertical-align: middle;\n",
       "    }\n",
       "\n",
       "    .dataframe tbody tr th {\n",
       "        vertical-align: top;\n",
       "    }\n",
       "\n",
       "    .dataframe thead th {\n",
       "        text-align: right;\n",
       "    }\n",
       "</style>\n",
       "<table border=\"1\" class=\"dataframe\">\n",
       "  <thead>\n",
       "    <tr style=\"text-align: right;\">\n",
       "      <th></th>\n",
       "      <th></th>\n",
       "      <th>Cotiz. Legal</th>\n",
       "      <th>Reajuste</th>\n",
       "      <th>Interés</th>\n",
       "      <th>Multas</th>\n",
       "      <th>SUB TOTAL FONASA</th>\n",
       "      <th>Compensación Asignación Familiar</th>\n",
       "      <th>Total A Pagar</th>\n",
       "    </tr>\n",
       "  </thead>\n",
       "  <tbody>\n",
       "    <tr>\n",
       "      <th>Ene</th>\n",
       "      <th>FONASA</th>\n",
       "      <td>905198</td>\n",
       "      <td>0</td>\n",
       "      <td>0</td>\n",
       "      <td>0</td>\n",
       "      <td>905198</td>\n",
       "      <td>0</td>\n",
       "      <td>905198</td>\n",
       "    </tr>\n",
       "    <tr>\n",
       "      <th>Feb</th>\n",
       "      <th>FONASA</th>\n",
       "      <td>955785</td>\n",
       "      <td>0</td>\n",
       "      <td>0</td>\n",
       "      <td>0</td>\n",
       "      <td>955785</td>\n",
       "      <td>0</td>\n",
       "      <td>955785</td>\n",
       "    </tr>\n",
       "    <tr>\n",
       "      <th>Mar</th>\n",
       "      <th>FONASA</th>\n",
       "      <td>1089890</td>\n",
       "      <td>0</td>\n",
       "      <td>0</td>\n",
       "      <td>0</td>\n",
       "      <td>1089890</td>\n",
       "      <td>0</td>\n",
       "      <td>1089890</td>\n",
       "    </tr>\n",
       "  </tbody>\n",
       "</table>\n",
       "</div>"
      ],
      "text/plain": [
       "0          Cotiz. Legal Reajuste Interés Multas SUB TOTAL FONASA  \\\n",
       "Ene FONASA       905198        0       0      0           905198   \n",
       "Feb FONASA       955785        0       0      0           955785   \n",
       "Mar FONASA      1089890        0       0      0          1089890   \n",
       "\n",
       "0          Compensación Asignación Familiar Total A Pagar  \n",
       "Ene FONASA                                0        905198  \n",
       "Feb FONASA                                0        955785  \n",
       "Mar FONASA                                0       1089890  "
      ]
     },
     "execution_count": 16,
     "metadata": {},
     "output_type": "execute_result"
    }
   ],
   "source": [
    "df"
   ]
  },
  {
   "cell_type": "code",
   "execution_count": 17,
   "metadata": {},
   "outputs": [
    {
     "data": {
      "text/plain": [
       "0\n",
       "Cotiz. Legal                        2950873.0\n",
       "Reajuste                                  0.0\n",
       "Interés                                   0.0\n",
       "Multas                                    0.0\n",
       "SUB TOTAL FONASA                    2950873.0\n",
       "Compensación Asignación Familiar          0.0\n",
       "Total A Pagar                       2950873.0\n",
       "dtype: float64"
      ]
     },
     "execution_count": 17,
     "metadata": {},
     "output_type": "execute_result"
    }
   ],
   "source": [
    "df.sum(axis=0)"
   ]
  },
  {
   "cell_type": "code",
   "execution_count": null,
   "metadata": {
    "collapsed": true
   },
   "outputs": [],
   "source": []
  }
 ],
 "metadata": {
  "kernelspec": {
   "display_name": "myenv",
   "language": "python",
   "name": "myenv"
  },
  "language_info": {
   "codemirror_mode": {
    "name": "ipython",
    "version": 3
   },
   "file_extension": ".py",
   "mimetype": "text/x-python",
   "name": "python",
   "nbconvert_exporter": "python",
   "pygments_lexer": "ipython3",
   "version": "3.6.4"
  }
 },
 "nbformat": 4,
 "nbformat_minor": 2
}
