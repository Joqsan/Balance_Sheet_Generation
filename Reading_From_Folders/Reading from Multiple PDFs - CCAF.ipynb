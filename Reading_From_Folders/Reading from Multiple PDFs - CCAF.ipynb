{
 "cells": [
  {
   "cell_type": "code",
   "execution_count": 4,
   "metadata": {
    "collapsed": true
   },
   "outputs": [],
   "source": [
    "import camelot"
   ]
  },
  {
   "cell_type": "code",
   "execution_count": 5,
   "metadata": {
    "collapsed": true
   },
   "outputs": [],
   "source": [
    "import glob"
   ]
  },
  {
   "cell_type": "code",
   "execution_count": 6,
   "metadata": {
    "collapsed": true
   },
   "outputs": [],
   "source": [
    "directory = '/Users/joqsan/0-Excel/Reading_From_Folders/CCAF/*.pdf'"
   ]
  },
  {
   "cell_type": "code",
   "execution_count": 7,
   "metadata": {},
   "outputs": [
    {
     "data": {
      "text/plain": [
       "'/Users/joqsan/0-Excel/Reading_From_Folders/CCAF/*.pdf'"
      ]
     },
     "execution_count": 7,
     "metadata": {},
     "output_type": "execute_result"
    }
   ],
   "source": [
    "directory"
   ]
  },
  {
   "cell_type": "code",
   "execution_count": 8,
   "metadata": {
    "collapsed": true
   },
   "outputs": [],
   "source": [
    "files = [filename for filename in glob.glob(directory)]"
   ]
  },
  {
   "cell_type": "code",
   "execution_count": 9,
   "metadata": {},
   "outputs": [
    {
     "data": {
      "text/plain": [
       "['/Users/joqsan/0-Excel/Reading_From_Folders/CCAF/CCAF_03.pdf',\n",
       " '/Users/joqsan/0-Excel/Reading_From_Folders/CCAF/CCAF_02.pdf',\n",
       " '/Users/joqsan/0-Excel/Reading_From_Folders/CCAF/CCAF_01.pdf']"
      ]
     },
     "execution_count": 9,
     "metadata": {},
     "output_type": "execute_result"
    }
   ],
   "source": [
    "files"
   ]
  },
  {
   "cell_type": "markdown",
   "metadata": {},
   "source": [
    "## Let's test CCAF"
   ]
  },
  {
   "cell_type": "code",
   "execution_count": 10,
   "metadata": {},
   "outputs": [
    {
     "data": {
      "text/plain": [
       "'es_ES.UTF-8'"
      ]
     },
     "execution_count": 10,
     "metadata": {},
     "output_type": "execute_result"
    }
   ],
   "source": [
    "import camelot\n",
    "import pandas as pd\n",
    "%matplotlib notebook\n",
    "import re\n",
    "import calendar\n",
    "import locale\n",
    "locale.setlocale(locale.LC_ALL,'es_ES.UTF-8')"
   ]
  },
  {
   "cell_type": "code",
   "execution_count": 11,
   "metadata": {
    "collapsed": true
   },
   "outputs": [],
   "source": [
    "months = list(calendar.month_abbr)\n",
    "months = list(map(lambda x: x.capitalize(), months))"
   ]
  },
  {
   "cell_type": "code",
   "execution_count": 12,
   "metadata": {
    "collapsed": true
   },
   "outputs": [],
   "source": [
    "area = ['16, 466, 393, 298', '393, 471, 736, 382']\n",
    "cols = ['575.2, 418.8, 711.4', '141.3, 184.8, 303, 362.1']"
   ]
  },
  {
   "cell_type": "code",
   "execution_count": 38,
   "metadata": {
    "collapsed": true
   },
   "outputs": [],
   "source": [
    "def transpose_data(df, month, name, drop_index=False):\n",
    "    df = df.transpose()\n",
    "    df.columns = df.iloc[0, :]\n",
    "    df = df.drop(0, axis=0)\n",
    "    \n",
    "    df = df.set_index([[month], [name]])\n",
    "    \n",
    "    if drop_index:\n",
    "        df.index = df.index.droplevel(level=1)\n",
    "    \n",
    "    return df"
   ]
  },
  {
   "cell_type": "code",
   "execution_count": 43,
   "metadata": {
    "collapsed": true
   },
   "outputs": [],
   "source": [
    "def ccaf_data_cleaning(dfs):\n",
    "    \n",
    "    part1 = dfs[0].df.copy()\n",
    "    month = part1.iloc[4, 0].split(' ')[0][:3]\n",
    "    \n",
    "    part2 = dfs[1].df.copy()\n",
    "    part2.drop([0,1, 7], inplace=True)\n",
    "    part2.loc[[6, 13], 0:2] = part2.loc[[6, 13], 0:2].shift(-2, axis=1)\n",
    "    part2.iloc[:, 0] = part2.iloc[:, 0].str.title()\n",
    "    part2 = part2.iloc[:, [0, 4]].copy()\n",
    "    part2.iloc[-1, 0] = 'Total A Pagar A Caja'\n",
    "    \n",
    "    part2.iloc[:, [1]] = part2.iloc[:, [1]].apply(lambda x: x.str.replace('.', '')).astype(int)\n",
    "    \n",
    "    ccaf = transpose_data(part2, month, 'CCAF', drop_index=True)\n",
    "    \n",
    "    return ccaf"
   ]
  },
  {
   "cell_type": "code",
   "execution_count": 44,
   "metadata": {},
   "outputs": [],
   "source": [
    "ccaf_list = []\n",
    "for ccaf_file in files:\n",
    "    ccaf_dfs = camelot.read_pdf(ccaf_file, pages='1', flavor='stream', table_areas=area, columns=cols)\n",
    "    ccaf = ccaf_data_cleaning(ccaf_dfs)\n",
    "    ccaf_list.append(ccaf)"
   ]
  },
  {
   "cell_type": "code",
   "execution_count": 45,
   "metadata": {
    "collapsed": true
   },
   "outputs": [],
   "source": [
    "df = pd.concat(ccaf_list)"
   ]
  },
  {
   "cell_type": "code",
   "execution_count": 46,
   "metadata": {},
   "outputs": [
    {
     "data": {
      "text/html": [
       "<div>\n",
       "<style scoped>\n",
       "    .dataframe tbody tr th:only-of-type {\n",
       "        vertical-align: middle;\n",
       "    }\n",
       "\n",
       "    .dataframe tbody tr th {\n",
       "        vertical-align: top;\n",
       "    }\n",
       "\n",
       "    .dataframe thead th {\n",
       "        text-align: right;\n",
       "    }\n",
       "</style>\n",
       "<table border=\"1\" class=\"dataframe\">\n",
       "  <thead>\n",
       "    <tr style=\"text-align: right;\">\n",
       "      <th></th>\n",
       "      <th>Cotización No Afiliados A Isapre</th>\n",
       "      <th>Asignación Familiar</th>\n",
       "      <th>Asignación Familiar Retroactiva</th>\n",
       "      <th>Reintegros De Asignación Familiar</th>\n",
       "      <th>Cotización - Rebajas</th>\n",
       "      <th>Creditos Personales</th>\n",
       "      <th>Convenios Dentales</th>\n",
       "      <th>Leasing</th>\n",
       "      <th>Seguros De Vida</th>\n",
       "      <th>Otros</th>\n",
       "      <th>Total Productos</th>\n",
       "      <th>Total A Pagar A Caja</th>\n",
       "    </tr>\n",
       "  </thead>\n",
       "  <tbody>\n",
       "    <tr>\n",
       "      <th>Mar</th>\n",
       "      <td>102176</td>\n",
       "      <td>119900</td>\n",
       "      <td>0</td>\n",
       "      <td>0</td>\n",
       "      <td>-17724</td>\n",
       "      <td>0</td>\n",
       "      <td>0</td>\n",
       "      <td>0</td>\n",
       "      <td>0</td>\n",
       "      <td>0</td>\n",
       "      <td>0</td>\n",
       "      <td>-17724</td>\n",
       "    </tr>\n",
       "    <tr>\n",
       "      <th>Feb</th>\n",
       "      <td>89605</td>\n",
       "      <td>9180</td>\n",
       "      <td>0</td>\n",
       "      <td>0</td>\n",
       "      <td>80425</td>\n",
       "      <td>0</td>\n",
       "      <td>0</td>\n",
       "      <td>0</td>\n",
       "      <td>0</td>\n",
       "      <td>0</td>\n",
       "      <td>0</td>\n",
       "      <td>80425</td>\n",
       "    </tr>\n",
       "    <tr>\n",
       "      <th>Ene</th>\n",
       "      <td>84862</td>\n",
       "      <td>9180</td>\n",
       "      <td>19775</td>\n",
       "      <td>0</td>\n",
       "      <td>55907</td>\n",
       "      <td>66921</td>\n",
       "      <td>0</td>\n",
       "      <td>0</td>\n",
       "      <td>0</td>\n",
       "      <td>0</td>\n",
       "      <td>66921</td>\n",
       "      <td>122828</td>\n",
       "    </tr>\n",
       "  </tbody>\n",
       "</table>\n",
       "</div>"
      ],
      "text/plain": [
       "0   Cotización No Afiliados A Isapre Asignación Familiar  \\\n",
       "Mar                           102176              119900   \n",
       "Feb                            89605                9180   \n",
       "Ene                            84862                9180   \n",
       "\n",
       "0   Asignación Familiar Retroactiva Reintegros De Asignación Familiar  \\\n",
       "Mar                               0                                 0   \n",
       "Feb                               0                                 0   \n",
       "Ene                           19775                                 0   \n",
       "\n",
       "0   Cotización - Rebajas Creditos Personales Convenios Dentales Leasing  \\\n",
       "Mar               -17724                   0                  0       0   \n",
       "Feb                80425                   0                  0       0   \n",
       "Ene                55907               66921                  0       0   \n",
       "\n",
       "0   Seguros De Vida Otros Total Productos Total A Pagar A Caja  \n",
       "Mar               0     0               0               -17724  \n",
       "Feb               0     0               0                80425  \n",
       "Ene               0     0           66921               122828  "
      ]
     },
     "execution_count": 46,
     "metadata": {},
     "output_type": "execute_result"
    }
   ],
   "source": [
    "df"
   ]
  },
  {
   "cell_type": "code",
   "execution_count": 48,
   "metadata": {},
   "outputs": [
    {
     "data": {
      "text/plain": [
       "Mar    119900\n",
       "Feb      9180\n",
       "Ene     28955\n",
       "dtype: object"
      ]
     },
     "execution_count": 48,
     "metadata": {},
     "output_type": "execute_result"
    }
   ],
   "source": [
    "df['Asignación Familiar'] + df['Asignación Familiar Retroactiva']"
   ]
  },
  {
   "cell_type": "code",
   "execution_count": 52,
   "metadata": {
    "collapsed": true
   },
   "outputs": [],
   "source": [
    "# Column O: df['Asignación Familiar'] + df['Asignación Familiar Retroactiva'] \n",
    "# Column S: df['Asignación Familiar']\n",
    "# What is the difference between CCAF Asignacion Familiar (column O) and 0.6% (column S, \n",
    "#                                                     which is also Asignacion Familiar)\n",
    "#df['Prestamo CCAF'] = Creditos Personales  + Convenios Dentales + Leasing + Seguros De Vida + Otros?"
   ]
  },
  {
   "cell_type": "code",
   "execution_count": null,
   "metadata": {
    "collapsed": true
   },
   "outputs": [],
   "source": []
  }
 ],
 "metadata": {
  "kernelspec": {
   "display_name": "myenv",
   "language": "python",
   "name": "myenv"
  },
  "language_info": {
   "codemirror_mode": {
    "name": "ipython",
    "version": 3
   },
   "file_extension": ".py",
   "mimetype": "text/x-python",
   "name": "python",
   "nbconvert_exporter": "python",
   "pygments_lexer": "ipython3",
   "version": "3.6.4"
  }
 },
 "nbformat": 4,
 "nbformat_minor": 2
}
