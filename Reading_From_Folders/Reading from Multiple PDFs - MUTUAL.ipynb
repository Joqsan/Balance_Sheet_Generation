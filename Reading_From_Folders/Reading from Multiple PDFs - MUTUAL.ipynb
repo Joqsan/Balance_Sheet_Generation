{
 "cells": [
  {
   "cell_type": "code",
   "execution_count": 17,
   "metadata": {
    "collapsed": true
   },
   "outputs": [],
   "source": [
    "import camelot"
   ]
  },
  {
   "cell_type": "code",
   "execution_count": 18,
   "metadata": {
    "collapsed": true
   },
   "outputs": [],
   "source": [
    "import glob"
   ]
  },
  {
   "cell_type": "code",
   "execution_count": 19,
   "metadata": {
    "collapsed": true
   },
   "outputs": [],
   "source": [
    "directory = '/Users/joqsan/0-Excel/Reading_From_Folders/MUTUAL/*.pdf'"
   ]
  },
  {
   "cell_type": "code",
   "execution_count": 20,
   "metadata": {},
   "outputs": [
    {
     "data": {
      "text/plain": [
       "'/Users/joqsan/0-Excel/Reading_From_Folders/MUTUAL/*.pdf'"
      ]
     },
     "execution_count": 20,
     "metadata": {},
     "output_type": "execute_result"
    }
   ],
   "source": [
    "directory"
   ]
  },
  {
   "cell_type": "code",
   "execution_count": 21,
   "metadata": {
    "collapsed": true
   },
   "outputs": [],
   "source": [
    "files = [filename for filename in glob.glob(directory)]"
   ]
  },
  {
   "cell_type": "code",
   "execution_count": 22,
   "metadata": {},
   "outputs": [
    {
     "data": {
      "text/plain": [
       "['/Users/joqsan/0-Excel/Reading_From_Folders/MUTUAL/Mutual_02.pdf',\n",
       " '/Users/joqsan/0-Excel/Reading_From_Folders/MUTUAL/Mutual_03.pdf',\n",
       " '/Users/joqsan/0-Excel/Reading_From_Folders/MUTUAL/Mutual_01.pdf']"
      ]
     },
     "execution_count": 22,
     "metadata": {},
     "output_type": "execute_result"
    }
   ],
   "source": [
    "files"
   ]
  },
  {
   "cell_type": "markdown",
   "metadata": {},
   "source": [
    "## Let's test MUTUAL"
   ]
  },
  {
   "cell_type": "code",
   "execution_count": 23,
   "metadata": {},
   "outputs": [
    {
     "data": {
      "text/plain": [
       "'es_ES.UTF-8'"
      ]
     },
     "execution_count": 23,
     "metadata": {},
     "output_type": "execute_result"
    }
   ],
   "source": [
    "import camelot\n",
    "import pandas as pd\n",
    "%matplotlib notebook\n",
    "import re\n",
    "import calendar\n",
    "import locale\n",
    "locale.setlocale(locale.LC_ALL,'es_ES.UTF-8')"
   ]
  },
  {
   "cell_type": "code",
   "execution_count": 24,
   "metadata": {
    "collapsed": true
   },
   "outputs": [],
   "source": [
    "months = list(calendar.month_abbr)\n",
    "months = list(map(lambda x: x.capitalize(), months))"
   ]
  },
  {
   "cell_type": "code",
   "execution_count": 25,
   "metadata": {
    "collapsed": true
   },
   "outputs": [],
   "source": [
    "area = ['16, 464, 536, 383']\n",
    "cols = ['']"
   ]
  },
  {
   "cell_type": "code",
   "execution_count": 26,
   "metadata": {
    "collapsed": true
   },
   "outputs": [],
   "source": [
    "def transpose_data(df, month, name):\n",
    "    df = df.transpose()\n",
    "    df.columns = df.iloc[0, :]\n",
    "    df = df.drop(0, axis=0)\n",
    "    df = df.set_index([[month], [name]])\n",
    "    \n",
    "    return df"
   ]
  },
  {
   "cell_type": "code",
   "execution_count": 27,
   "metadata": {
    "collapsed": true
   },
   "outputs": [],
   "source": [
    "def mutual_data_cleaning(dfs):\n",
    "    \n",
    "    df = dfs[0].df.copy()\n",
    "    \n",
    "    month = df.iloc[6, 4].split(' ')[0][:3]\n",
    "    \n",
    "    df = df.iloc[[5,7], [0, 3]].copy()\n",
    "    df.iloc[:, 0] = ['Total Remuneraciones', 'Total A Pagar']\n",
    "    df.iloc[:, [1]] = df.iloc[:, [1]].apply(lambda x: x.str.replace('.', '')).astype(int)\n",
    "    \n",
    "    mutual = transpose_data(df, month, 'Mutual')\n",
    "    \n",
    "    return mutual"
   ]
  },
  {
   "cell_type": "code",
   "execution_count": 28,
   "metadata": {},
   "outputs": [],
   "source": [
    "mutual_list = []\n",
    "for mutual_file in files:\n",
    "    mutual_dfs = camelot.read_pdf(mutual_file, pages='1', flavor='stream', table_areas=area, columns=cols)\n",
    "    mutual = mutual_data_cleaning(mutual_dfs)\n",
    "    mutual_list.append(mutual)"
   ]
  },
  {
   "cell_type": "code",
   "execution_count": 29,
   "metadata": {
    "collapsed": true
   },
   "outputs": [],
   "source": [
    "df = pd.concat(mutual_list)"
   ]
  },
  {
   "cell_type": "code",
   "execution_count": 30,
   "metadata": {},
   "outputs": [
    {
     "data": {
      "text/html": [
       "<div>\n",
       "<style scoped>\n",
       "    .dataframe tbody tr th:only-of-type {\n",
       "        vertical-align: middle;\n",
       "    }\n",
       "\n",
       "    .dataframe tbody tr th {\n",
       "        vertical-align: top;\n",
       "    }\n",
       "\n",
       "    .dataframe thead th {\n",
       "        text-align: right;\n",
       "    }\n",
       "</style>\n",
       "<table border=\"1\" class=\"dataframe\">\n",
       "  <thead>\n",
       "    <tr style=\"text-align: right;\">\n",
       "      <th></th>\n",
       "      <th></th>\n",
       "      <th>Total Remuneraciones</th>\n",
       "      <th>Total A Pagar</th>\n",
       "    </tr>\n",
       "  </thead>\n",
       "  <tbody>\n",
       "    <tr>\n",
       "      <th>Feb</th>\n",
       "      <th>Mutual</th>\n",
       "      <td>24392042</td>\n",
       "      <td>475643</td>\n",
       "    </tr>\n",
       "    <tr>\n",
       "      <th>Mar</th>\n",
       "      <th>Mutual</th>\n",
       "      <td>25431724</td>\n",
       "      <td>492210</td>\n",
       "    </tr>\n",
       "    <tr>\n",
       "      <th>Ene</th>\n",
       "      <th>Mutual</th>\n",
       "      <td>24212761</td>\n",
       "      <td>460352</td>\n",
       "    </tr>\n",
       "  </tbody>\n",
       "</table>\n",
       "</div>"
      ],
      "text/plain": [
       "0          Total Remuneraciones Total A Pagar\n",
       "Feb Mutual             24392042        475643\n",
       "Mar Mutual             25431724        492210\n",
       "Ene Mutual             24212761        460352"
      ]
     },
     "execution_count": 30,
     "metadata": {},
     "output_type": "execute_result"
    }
   ],
   "source": [
    "df"
   ]
  },
  {
   "cell_type": "code",
   "execution_count": 31,
   "metadata": {},
   "outputs": [
    {
     "data": {
      "text/plain": [
       "0\n",
       "Total Remuneraciones    74036527.0\n",
       "Total A Pagar            1428205.0\n",
       "dtype: float64"
      ]
     },
     "execution_count": 31,
     "metadata": {},
     "output_type": "execute_result"
    }
   ],
   "source": [
    "df.sum(axis=0)"
   ]
  },
  {
   "cell_type": "code",
   "execution_count": null,
   "metadata": {
    "collapsed": true
   },
   "outputs": [],
   "source": []
  }
 ],
 "metadata": {
  "kernelspec": {
   "display_name": "myenv",
   "language": "python",
   "name": "myenv"
  },
  "language_info": {
   "codemirror_mode": {
    "name": "ipython",
    "version": 3
   },
   "file_extension": ".py",
   "mimetype": "text/x-python",
   "name": "python",
   "nbconvert_exporter": "python",
   "pygments_lexer": "ipython3",
   "version": "3.6.4"
  }
 },
 "nbformat": 4,
 "nbformat_minor": 2
}
